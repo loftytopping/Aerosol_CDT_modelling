{
 "cells": [
  {
   "cell_type": "markdown",
   "metadata": {},
   "source": [
    "## Assignment template 1) Evaluating the sentivity of droplet-growth rates to molecular properties\n",
    "\n",
    "In practical 3, we learned that condensational growth is driven by a difference in the partial pressure above the surface of a particle and that in the gas phase. As the concentrations within the gas phase change, along with any changes in the composition, morphology and phase state of the particle , the partitioning process redistributes species between the gaseous and condensed phases according to a combination of pure component and mixture properties. \n",
    "\n",
    "We translated the underlying theory of droplet growth into python code and then conducted some simulations for a size distribution. In this option, you are tasked with exploring some sensitivities of droplet growth rates to a number of model parameters. These could include:\n",
    "\n",
    " - The ratio of pre-existing condensed to gas phase mass\n",
    " - The range of activity coefficients, and how they vary as a function of volatility\n",
    " - The accomodatio coefficient of the consensing organics.\n",
    " \n",
    "You may select two of the above and, with reference to appropriate academic studies, explore how the final condensed mass depends on the interplay between such variables.\n",
    " \n",
    "<div class=\"alert alert-block alert-warning\">\n",
    "<b>Please note:</b> \n",
    "\n",
    "We also want to see adequate referencing around:\n",
    "  - What is the original source of the theory and/or data?\n",
    "  - Comments in the code boxes using the # symbol. Remember that someone might not know what each line of code does.\n",
    "\n",
    "You may also want to consider a broader discussion around this challenge. For example: \n",
    " - What could be improved? \n",
    " - How do you know your results are correct? [i.e. what might improve trust in your simulations?]\n",
    " - What if someone wanted to get in touch with you and re-use this code? Any restrictions on data?\n",
    "\n",
    "To start, we reccomend you first get the code implementation working and then construct the narrative around it. Also please note that to add another code or markdown box, you can simple use the 'Insert' option on the main menu.\n",
    "\n",
    "Your boxplot of cluster age should resemble the following figure:\n",
    "\n",
    "<tr>\n",
    "    <td> <img src=\"images/Assessment5_output.png\" alt=\"Drawing\" style=\"width: 400px;\"/> </td>\n",
    "</tr>\n",
    "\n",
    "Also please note that you can load your data, once the Pandas module has been loaded, bya:\n",
    "\n",
    "```python\n",
    "data = pd.read_csv(\"data/abalone.csv\") \n",
    "```\n",
    "    \n",
    "</div>\n",
    "\n",
    "</div>"
   ]
  },
  {
   "cell_type": "markdown",
   "metadata": {},
   "source": [
    "## Abstract\n",
    "\n",
    "- Summarise the project and main results\n",
    "\n",
    "_Your Answer Here_"
   ]
  },
  {
   "cell_type": "markdown",
   "metadata": {},
   "source": [
    "## Introduction\n",
    "\n",
    "- Introduce the wider scientific background\n",
    "  \n",
    "_Your Answer Here_\n"
   ]
  },
  {
   "cell_type": "markdown",
   "metadata": {},
   "source": [
    "## Methodology using class templates\n",
    "\n",
    "- What is the challenge and how are you solving it?\n",
    "- What modules/functions are you using?\n",
    "\n",
    "_Your Answer Here_"
   ]
  },
  {
   "cell_type": "markdown",
   "metadata": {},
   "source": [
    "## Methodology using GenAI (optional)\n",
    "\n",
    "_Your Answer Here_"
   ]
  },
  {
   "cell_type": "markdown",
   "metadata": {},
   "source": [
    "## Code [inset code below]"
   ]
  },
  {
   "cell_type": "code",
   "execution_count": null,
   "metadata": {},
   "outputs": [],
   "source": [
    "#### -------- INSERT CODE HERE ----------\n",
    "\n",
    "\n",
    "#### ------------------------------------"
   ]
  },
  {
   "cell_type": "markdown",
   "metadata": {},
   "source": [
    "## Results\n",
    "\n",
    "- What is happening in each figure?\n",
    "\n",
    "\n",
    "_Your Answer Here_\n",
    "\n",
    "\n",
    "#### references"
   ]
  },
  {
   "cell_type": "code",
   "execution_count": null,
   "metadata": {},
   "outputs": [],
   "source": []
  }
 ],
 "metadata": {
  "kernelspec": {
   "display_name": "Python 3 (ipykernel)",
   "language": "python",
   "name": "python3"
  },
  "language_info": {
   "codemirror_mode": {
    "name": "ipython",
    "version": 3
   },
   "file_extension": ".py",
   "mimetype": "text/x-python",
   "name": "python",
   "nbconvert_exporter": "python",
   "pygments_lexer": "ipython3",
   "version": "3.13.1"
  }
 },
 "nbformat": 4,
 "nbformat_minor": 2
}
