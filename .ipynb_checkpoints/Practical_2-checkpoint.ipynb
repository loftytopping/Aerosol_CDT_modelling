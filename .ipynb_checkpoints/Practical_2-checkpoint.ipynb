{
 "cells": [
  {
   "cell_type": "markdown",
   "metadata": {},
   "source": [
    "# Practical 2) Equilibrium partitioning\n",
    "\n",
    "Aerosol particles grow and shrink under varying saturation ratios of gas phase products. Understanding how volatility relates to properties of the condensing compound and state of the aerosol particle is a huge area of research. In this practical we implement equilibrium absorptive partitioning theory and calculate the mass loading of condensed material given an initial absorptive mass. In other words, given an existing mass of particulate matter and material in the gas phase, how much particulate matter are we left with? We also practice implementing a method for finding the root of an equation in order to solve the partitioning equation. Whilst you could use an existing solver, this is to further practice converting theory to code.\n",
    "\n",
    "<div class=\"alert alert-block alert-success\">\n",
    "<b>Objectives:</b> The objectives and exercises for today's practical are:\n",
    "\n",
    " - 1) [Objective 1 - Implement the equilibrium absorptive partitioning equations](#Part1)\n",
    "      * [Exercise 1: Plot partitioning coefficients given an existing mass](#Exercise1)\n",
    "      * [Exercise 2: Create a volatility distribution](#Exercise2)\n",
    "      * [Exercise 3: Predict condensed mass from one interation of partitioning](#Exercise3)\n",
    " - 3) [Objective 2 - Calculate the equilibrium mass after partitioning of volatile material](#Part2)\n",
    "      * [Exercise 4: Implement Newton-Raphson method of finding a root](#Exercise4)\n",
    "\n",
    "Please note that you should not feel pressured to complete every exercise in class. These practicals are designed for you to take outside of class and continue working on them. Proposed solutions to all exercises can be found in the 'Solutions' folder.\n",
    "</div>\n",
    "\n",
    "<div class=\"alert alert-block alert-warning\">\n",
    "<b>Please note:</b> After reading the instructions and aims of any exercise, if some boilerplate is already provided, search the code snippets for a note that reads ------'INSERT CODE HERE'------ to identify where you need to write your code \n",
    "</div>\n",
    "\n"
   ]
  },
  {
   "cell_type": "markdown",
   "metadata": {},
   "source": [
    "## Objective 1 - Implement the equilibrium absorptive partitioning equations  <a name=\"Part1\">\n",
    "    \n",
    "Some implementations of gas-to-particle partitioning assume instantaneous partitioning between the condensed and gaseous phases. This has some limitations, not least because it neglects the distribution of components across a size distribution. However, in some conditions this might be a reasonable assumption to make. In any case, it can be very useful to estimate how much condensed mass might result from partitioning if a gas phase abundance and volatility of this material can be estimated. Most of the atmospheric aerosol community, for example, use the mass based equilibrium absorptive partitioning theory. This is captured in the following equations:\n",
    "    \n",
    "\\begin{align}\n",
    "C_{OA,t}^{*} = \\sum_{i} C_{t,i}^{*}\\varepsilon _{i}+core \\label{newvbs_eq1} \\\\\n",
    "C_{OA,c}^{*} = \\sum_{i} C_{t,i}^{*}\\varepsilon _{i} \\label{newvbs_eq2}  \\\\\n",
    "\\varepsilon _{i}=\\left ( 1+ \\frac{C_{i}^{*}}{C_{OA,c}^{*}+core} \\right )^{-1} \\label{newvbs_eq3} \\\\\n",
    "C_{i}^{*}=\\frac{10^{6}M_{i}\\gamma _{i}P_{sat,i}}{R_{gas}^{*}T}\n",
    "\\end{align}   \n",
    "    \n",
    "where we separate out the total condensed and secondary absorptive mass through the variables $C_{OA,t}^{*}$ and $C_{OA,c}^{*}$ respectively. $C_{OA,t}^{*}$ is the total condensed mass of, usually, organic aerosol given in $\\mu g.m^{-3}$, $C_{t,i}^{*}$ is the gas phase abundance of compound $i$ also given in $\\mu g.m^{-3}$, $\\varepsilon _{i}$ the partitioning coefficient of compound $i$ and has a value between 0 and 1. $core$ is the abundance of an assumed in-volatile core. $C_{i}^{*}$ is a measure of component volatility (units $\\mu g.m^{-3}$) and, as shown in the fourth equation, relates to the compound molecular weight ($M_{i}$) and activity coefficient in the condensed phase $\\gamma _{i}$. In practice, unless the solution to which the compound condenses can be assumed ideal, $\\gamma _{i}$ and thus $C_{i}^{*}$ changes with composition of the droplet. The ideal gas constant $R_{gas}^{*}$, with a value of  ~8.205736$10^{-5}$ is given in units of $m^{3}.atm.K^{-1}.mol^{-1}$ and the conversion factor $10^{6}$ is used to convert the molecular weight from $g.mol^{-1}$ to $\\mu.g.mol^{-1}$. The pure component vapour pressure is given by $p_{i}$, where $R$ is the ideal gas constant and $T$ the temperature. \n",
    "  \n",
    "The following schematic illustration visualises a hypothetical aerosol particle with an involatile core and semi-volatile condensed mass with a number of condensable products with abundances $C_{t,i}^{*}$, volatility $C_{i}^{*}$ and thus partitioning coefficients $\\varepsilon _{i}$:\n",
    "    \n",
    "    \n",
    "<img src=\"images/Equil_partition_schematic1.png\" alt=\"Drawing\" style=\"width: 400px;\"/> \n",
    "    \n",
    "Now we have all of the equations we need to begin our exercises."
   ]
  },
  {
   "cell_type": "markdown",
   "metadata": {},
   "source": [
    "<div class=\"alert alert-block alert-success\">\n",
    "<b> Exercise 1. Plot partitioning coefficients given an existing mass <a name=\"Exercise1\"> </b> \n",
    "   \n",
    "We have been told that partitioning coefficients that enable us to calculate  are given by the following equations:\n",
    "\n",
    "\\begin{equation}\n",
    "\\varepsilon _{i}=\\left ( 1+ \\frac{C_{i}^{*}}{C_{OA,c}^{*}+core} \\right )^{-1}  \\\\\n",
    "\\end{equation}\n",
    "\n",
    "In this exercise we are given the following information:\n",
    "\n",
    " - We have an existing total condensed mass of 20$\\mu g.m^{-3}$\n",
    " - We assume that our volatilities, thus $C_{i}^{*}$ is defined by an array of log10 seperated values from $10^{-6}$ to $10^{3}$\n",
    " \n",
    "Your task is to populate an array of $\\varepsilon _{i}$ and then plot the values. You should arrive at the same figure given below:\n",
    "\n",
    "![title <](images/Prac2_ex1.png)\n",
    "\n",
    "\n",
    "In the code snippet below I have provided some boiletplate, and your task is to insert the relevant code where required. As we are using Python for these exercises, you might find the following functions useful to create an array of linearly seperated numbers and raise an array to a power:\n",
    "\n",
    "```python\n",
    "import numpy as np\n",
    "# Define an array of linearly seperated values\n",
    "x = np.linspace(<<start>>,<<end>>,<<number of values>>)\n",
    "y = np.power(<<base>>,<<power>>)\n",
    "```\n",
    "\n",
    "\n"
   ]
  },
  {
   "cell_type": "code",
   "execution_count": 3,
   "metadata": {},
   "outputs": [
    {
     "name": "stdout",
     "output_type": "stream",
     "text": [
      "[-6. -5. -4. -3. -2. -1.  0.  1.  2.  3.]\n",
      "[1.e-06 1.e-05 1.e-04 1.e-03 1.e-02 1.e-01 1.e+00 1.e+01 1.e+02 1.e+03]\n"
     ]
    },
    {
     "data": {
      "image/png": "[encoded data removed]",
      "text/plain": [
       "<Figure size 432x288 with 1 Axes>"
      ]
     },
     "metadata": {
      "needs_background": "light"
     },
     "output_type": "display_data"
    }
   ],
   "source": [
    "import numpy as np\n",
    "import matplotlib.pyplot as plt\n",
    "\n",
    "# ------'INSERT CODE HERE'------\n",
    "log_c_star = np.linspace(-6, 3, 10) # Array of log10 C* values\n",
    "Cstar =  # Array of C* values\n",
    "# ------------------------------\n",
    "print(log_c_star)\n",
    "print(Cstar)\n",
    "\n",
    "COA = 20.0 # Existing condensed mass\n",
    "\n",
    "# ------'INSERT CODE HERE'------\n",
    "epsilon =  # Partitioning coefficients\n",
    "# ------------------------------\n",
    "\n",
    "plt.bar(log_c_star, epsilon, align='center', alpha=0.5)\n",
    "plt.ylabel(r'$\\varepsilon$')\n",
    "plt.xlabel(r'log10($C_{i}^{*}$)')\n",
    "plt.title(r'Partitioning coefficients')\n",
    "plt.show()"
   ]
  },
  {
   "cell_type": "markdown",
   "metadata": {},
   "source": [
    "<div class=\"alert alert-block alert-success\">\n",
    "<b> Exercise 2. Create a volatility distribution <a name=\"Exercise2\"> </b> \n",
    "   \n",
    "In this exercise, I would like you to initialise an array which holds information on the abundance of material in each $C_{i}^{*}$ bin. This is another chance to practice some basic Python. We have been given the following information on abundance as a function of volatility.\n",
    "\n",
    "| Log10($C_{i}^{*}$) | Abundance ($\\mu g.m^{-3}$) |\n",
    "|------|------|\n",
    "| -6 | 0.1|\n",
    "| -5 | 0.1|\n",
    "| -4 | 0.15|\n",
    "| -3 | 0.22|\n",
    "| -2 | 0.36|\n",
    "| -1 | 0.47|\n",
    "| 0 | 0.58|\n",
    "| 1 | 0.69|\n",
    "| 2 | 0.84|\n",
    "| 3 | 1.0|\n",
    "\n",
    "Your task is to populate an array of $\\varepsilon _{i}$ and then plot the values. You should arrive at the same figure given below:\n",
    "\n",
    "![title <](images/Prac2_ex2.png)"
   ]
  },
  {
   "cell_type": "code",
   "execution_count": 4,
   "metadata": {},
   "outputs": [
    {
     "data": {
      "image/png": "[encoded data removed]",
      "text/plain": [
       "<Figure size 432x288 with 1 Axes>"
      ]
     },
     "metadata": {
      "needs_background": "light"
     },
     "output_type": "display_data"
    }
   ],
   "source": [
    "# Populate volatility basis set with gas phase abundance\n",
    "abundance = np.zeros((10), dtype = float)\n",
    "\n",
    "# ------'INSERT CODE HERE'------\n",
    "abundance[0] = \n",
    "# ------------------------------\n",
    "\n",
    "plt.bar(log_c_star, abundance, align='center', alpha=0.5)\n",
    "plt.ylabel(r'Abundance $\\mu g.m^{-3}$')\n",
    "plt.xlabel(r'log10($C_{i}^{*}$)')\n",
    "plt.title(r'Volatility distribution')\n",
    "plt.show()\n"
   ]
  },
  {
   "cell_type": "markdown",
   "metadata": {},
   "source": [
    "<div class=\"alert alert-block alert-success\">\n",
    "<b> Exercise 3. Predict condensed mass from one interation of partitioning <a name=\"Exercise3\"> </b> \n",
    "   \n",
    "Now we need to implement the equation that gives as a value for our condensed mass. Just to remind ourselves, we have already met the following equations:\n",
    "\n",
    "\\begin{align}\n",
    "C_{OA,t}^{*} = \\sum_{i} C_{t,i}^{*}\\varepsilon _{i}+core \\label{newvbs_eq1} \\\\\n",
    "C_{OA,c}^{*} = \\sum_{i} C_{t,i}^{*}\\varepsilon _{i} \\label{newvbs_eq2}  \\\\\n",
    "\\varepsilon _{i}=\\left ( 1+ \\frac{C_{i}^{*}}{C_{OA,c}^{*}+core} \\right )^{-1} \\label{newvbs_eq3} \n",
    "\\end{align}  \n",
    "\n",
    "You have just initialised an array of compound abundance, $C_{t,i}^{*}$, and a set of 10 discrete volatility bins. You have also created a method for predicting partitioning coefficients $\\varepsilon _{i}$. In this exercise I would like you to write a function that takes $C_{t,i}^{*}$, an existing core, the abundance of every compound, an initial estimate for $C_{OA,t}^{*}$ and thus calculates $\\varepsilon _{i}$ and passes back a new value for $C_{OA,c}^{*}$.\n",
    "\n",
    "Functions in Python are written as follows\n",
    "\n",
    "```python\n",
    "# Define a function 'test' that takes in variables x,y and outputs z\n",
    "def test(x,y):\n",
    "    \n",
    "    z = x*y\n",
    "    \n",
    "    return z\n",
    "\n",
    "# Initialise variables\n",
    "x=3.0\n",
    "y=4.0\n",
    "\n",
    "# Call text\n",
    "z = test(x,y)\n",
    "```\n",
    "\n",
    "In the code snippet below I have initilised a core mass and also the function name, but left input variables and output variables for you to finish\n",
    "\n",
    "</div>"
   ]
  },
  {
   "cell_type": "code",
   "execution_count": 12,
   "metadata": {},
   "outputs": [
    {
     "name": "stdout",
     "output_type": "stream",
     "text": [
      "Total condensed mass from one iteration =  5.976222076341432\n"
     ]
    }
   ],
   "source": [
    "# Function to take core, gas phase abundance and predict a subsequent condensed mass\n",
    "core=20.0\n",
    "\n",
    "# ------'INSERT CODE HERE'------\n",
    "def partitioning(Cstar,abundance,COA_c,core):\n",
    "    # Partitioning coefficient\n",
    "    epsilon =  \n",
    "    # Partitionined mass\n",
    "    COA_c =  \n",
    "    return COA_c\n",
    "# ------------------------------\n",
    "\n",
    "COA = partitioning(Cstar,abundance,0.0,core)\n",
    "                       \n",
    "print(\"Total secondary mass from one iteration = \", COA)\n",
    "    "
   ]
  },
  {
   "cell_type": "markdown",
   "metadata": {},
   "source": [
    "## Objective 2 - Calculate the equilibrium mass after partitioning of volatile material  <a name=\"Part2\">\n",
    "    \n",
    "How do we use this information to arrive at a prediction for total condensed secondary mass, or $C_{OA,c}^{*}$ ? We can simply use the Newton-Raphson method by re\\-formulating the equations we wish to solve. Specifically, if we have a function $f$ of a variable $x$, each iteration gives us a new estimate for $x$.\n",
    "\n",
    "\\begin{equation}\n",
    "x_{1} = x_{o} - \\frac{f(x_{o})}{f^{'}(x_{o})}\\label{eqn:x}\n",
    "\\end{equation}\n",
    "\n",
    "where $f^{'}(x_{o})$ is, normally, the analytical expression for the gradient of $f$ with respect to $x$. Using the information provided above, we re-write our partitioning equation so we can use this method to find the value of $C_{OA,c}^{*}$ when $C_{OA,c}^{*} - \\sum_{i} C_{t,i}^{*}\\varepsilon _{i}$ is equal to zero.\n",
    "\n",
    "\\begin{align}\n",
    "f(C_{OA,c}^{*}) = C_{OA,c}^{*} - \\left (   \\sum_{i} C_{t,i}^{*}\\left ( 1+ \\frac{C_{i}^{*}}{C_{OA,c}^{*}+core} \\right )^{-1} \\right ) \\label{eqn:fx} \\\\\n",
    "f^{'}(C_{OA,c}^{*})= 1 - \\sum_{i} C_{t,i}^{*} \\left ( 1+ \\frac{C_{i}^{*}}{C_{OA,c}^{*}+core} \\right  )^{-2}\\frac{C_{i}^{*}}{(C_{OA,c}^{*}+core)^{2}} \\label{eqn:fx_dash}\n",
    "\\end{align}\n",
    "\n",
    "The following figure illustrates 3 example steps in the Newton Raphson method as we progress towards the equilibrium value for $C_{OA}$:\n",
    "\n",
    "<img src=\"images/Equil_partition_schematic2.png\" alt=\"Drawing\" style=\"width: 500px;\"/> \n",
    "\n",
    "In the following exercise you are asked to complete the code template provided and calculate a final secondary mass given an existing core and available mass from a specific volatility distribution.\n",
    "    \n",
    "This exercise is a little more involved but also serves as practice in considering appropriate code design. In the following code snippet I provide three skeleton function definitions which are used to arrive at the final value for $C_{OA}$. \n",
    "\n",
    "Once all functions are defined, we call the function 'Newtons_method' with our definitions of $C_{i}^{*}$, abundance, initial guess for $C_{OA,c}^{*}$ and core mass, which passes back the equilibrium value for $C_{OA,c}^{*}$ which we call 'COA_final'."
   ]
  },
  {
   "cell_type": "markdown",
   "metadata": {},
   "source": [
    "<div class=\"alert alert-block alert-success\">\n",
    "<b> Exercise 4: Implement the Newton-Raphson method of finding the equilibrium value of $C_{OA}$ <a name=\"Exercise4\"> </b> \n",
    "    \n",
    "This exercise is a little more involved but also serves as practice in considering appropriate code design. In the following code snippet I provide skeleton function definitions which are used to arrive at the final value for $C_{OA,c}^{*}$. \n",
    "\n",
    "Once all functions are defined, we call the function 'Newtons_method' with our definitions of $C_{i}^{*}$, abundance, initial guess for $C_{OA,c}^{*}$ and core mass, which passes back the equilibrium value for $C_{OA,c}^{*}$.\n",
    "\n",
    "With a core mass of 5.0 $\\mu g.m^{-3}$ you should arrive at a value of 2.257 $\\mu g.m^{-3}$ for our total condensed secondary mass.\n",
    "\n",
    "</div>"
   ]
  },
  {
   "cell_type": "code",
   "execution_count": 21,
   "metadata": {},
   "outputs": [
    {
     "name": "stdout",
     "output_type": "stream",
     "text": [
      "1.1697272013379354\n",
      "0.7716954113680632\n",
      "Total condensed mass from full simulation =  6.990549523932849\n"
     ]
    }
   ],
   "source": [
    "def partitioning(Cstar,abundance,COA_c,core):\n",
    "    # Partitioning coefficient\n",
    "    epsilon =  \n",
    "    # Partitionined mass\n",
    "    COA_c =  \n",
    "    return COA_c\n",
    "\n",
    "# Implement equation 2.13\n",
    "def partitioning_dash(Cstar,abundance,COA_c,core):\n",
    "    epsilon =  \n",
    "    COA_dash =  \n",
    "    return COA_dash\n",
    "\n",
    "# Implement Newtons method\n",
    "def Newtons_method(Cstar,abundance,COA_init,core):\n",
    "\n",
    "    COA_c =  \n",
    "    f =  \n",
    "    f_dash =  \n",
    "    COA_new =  \n",
    "\n",
    "    # Iterate estimates of COA until tolerance met\n",
    "    while (abs((COA_new-COA_c)/COA_new) > 1.0e-3):\n",
    "\n",
    "        COA_c =  \n",
    "        f = COA_c - (partitioning(Cstar,abundance,COA_c,core))\n",
    "        f_dash = 1.0 - partitioning_dash(Cstar,abundance,COA_c,core)\n",
    "        COA_new = COA_c - f/f_dash\n",
    "\n",
    "    return COA_c\n",
    "                       \n",
    "# Set an initial bulk core mass and guess at condensed seconadry mass\n",
    "core=5.0\n",
    "COA_first_guess = 1.0\n",
    "print(\"Core absorptive mass = \", core)\n",
    "\n",
    "# Populate volatility basis set with gas phase abundance\n",
    "abundance = np.zeros((10), dtype = float)\n",
    "abundance[0] = 0.1\n",
    "abundance[1] = 0.1\n",
    "abundance[2] = 0.15\n",
    "abundance[3] = 0.22\n",
    "abundance[4] = 0.36\n",
    "abundance[5] = 0.47\n",
    "abundance[6] = 0.58\n",
    "abundance[7] = 0.69\n",
    "abundance[8] = 0.84\n",
    "abundance[9] = 1.0\n",
    "print(\"Available secondary mass = \", np.sum(abundance))\n",
    "\n",
    "# Define array of log10 C* values\n",
    "log_c_star = np.linspace(-6, 3, 10)\n",
    "Cstar = np.power(10.0,log_c_star)\n",
    "\n",
    "# Call our function 'Newtons_method'\n",
    "COA_final = Newtons_method(Cstar,abundance,COA_first_guess,core)\n",
    "print(\"Secondary mass = \", COA_final)\n"
   ]
  }
 ],
 "metadata": {
  "kernelspec": {
   "display_name": "Python 3 (ipykernel)",
   "language": "python",
   "name": "python3"
  },
  "language_info": {
   "codemirror_mode": {
    "name": "ipython",
    "version": 3
   },
   "file_extension": ".py",
   "mimetype": "text/x-python",
   "name": "python",
   "nbconvert_exporter": "python",
   "pygments_lexer": "ipython3",
   "version": "3.10.1"
  }
 },
 "nbformat": 4,
 "nbformat_minor": 2
}
