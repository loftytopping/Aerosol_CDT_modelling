{
 "cells": [
  {
   "cell_type": "markdown",
   "metadata": {},
   "source": [
    "# Practical 1) Creating binned size distributions and calculating PM2.5\n",
    "\n",
    "<div class=\"alert alert-block alert-success\">\n",
    "<b>Objectives:</b> The objectives of todays practical are:\n",
    "\n",
    " - 1) [Objective 1 - Practice changing the shape of a normal and log-normal distribution ](#Part1)\n",
    "      * [Exercise 1: Create 3 normal distributions and plot the results](#Exercise1)\n",
    "      * [Exercise 2: Create 3 log-normal distributions and plot the results](#Exercise2)\n",
    " - 2) [Objective 2 - Populate a discrete 'binned' size distribution from a continuous function](#Part2)\n",
    "      * [Exercise 3: Create a discrete size distribution with 30 bins](#Exercise3)\n",
    " - 3) [Objective 3 - Calculate PM2.5 mass](#Part3)\n",
    "      * [Exercise 4: Sum to the total particulate mass for a range of environments](#Exercise4)\n",
    "\n",
    "</div>"
   ]
  },
  {
   "cell_type": "markdown",
   "metadata": {},
   "source": [
    "<div class=\"alert alert-block alert-success\">\n",
    "<b> Exercise 1. Create 3 normal distributions and plot the results <a name=\"Exercise1\"> </b> \n",
    "    \n",
    "Using the defition of a normal distribution, you are tasked with now creating three different distributions and plotting the results. We are going to assume that each distribution has the same mean of 0 but 3 different standard deviations of 0.3, 1.0 and 1.3.\n",
    "\n",
    "We are going to use the Numpy and Matplotlib libraries to create our arrays and plot results accordingly. As already noted above, this warm-up exercise will help you get a renewed feel for Python programming. You may find the following functions useful, assuming we have imported ```python numpy as np```:\n",
    "\n",
    "```python\n",
    "   np.linspace(lower, upper, num=xxx) # Creates an array with a lower and upper limit with xxx entries\n",
    "   np.exp(xxx) # Calculates the exponential of a constant, variable or Numpy array\n",
    "   np.sqrt(xxx) # Calculates the square root of a constant, variable or Numpy array\n",
    "   np.pi # Gives us the constant 'pi'\n",
    "\n",
    "```\n",
    "\n",
    "In the code snippet below, as part of this exercise, I have imported the relevant libraries for you and also provided a plotting function. Notice I have assumed our x variable is called 'x' and our 3 different distributions are called 'distribution_1','distribution_2' and 'distribution_3'. \n",
    "\n",
    "</div>"
   ]
  },
  {
   "cell_type": "code",
   "execution_count": 1,
   "metadata": {},
   "outputs": [
    {
     "data": {
      "image/png": "[encoded data removed]",
      "text/plain": [
       "<Figure size 432x288 with 1 Axes>"
      ]
     },
     "metadata": {
      "needs_background": "light"
     },
     "output_type": "display_data"
    }
   ],
   "source": [
    "# plot 3 different normal distributions with the same mean [0] but 3 different standard deviations of 0.1,0.6 and 1.0\n",
    "\n",
    "import numpy as np\n",
    "import matplotlib.pyplot as plt\n",
    "\n",
    "#------'INSERT CODE HERE'------\n",
    "\n",
    "# Define lower and upper limit of the size distribution [microns]\n",
    "lower_size = -10\n",
    "upper_size = 10\n",
    "\n",
    "# Use the above information and the fact we want to create 400 values to create a numpy array\n",
    "x = np.linspace(lower_size, upper_size, num=400) # values for x-axis\n",
    "\n",
    "# Define the mean and standard deviation for each normal distribution\n",
    "sigma1 = 0.3\n",
    "mean1 = 0.0\n",
    "\n",
    "sigma2 = 1.0\n",
    "mean2 = 0.0\n",
    "\n",
    "sigma3 = 1.3\n",
    "mean3 = 0.0\n",
    "\n",
    "# Now create each distribution using the mean, standard deviation and x array\n",
    "distribution_1 = (np.exp(-(x - mean1)**2 / (2 * sigma1**2)) / (sigma1 * np.sqrt(2 * np.pi)))\n",
    "distribution_2 = (np.exp(-(x - mean2)**2 / (2 * sigma2**2)) / (sigma2 * np.sqrt(2 * np.pi)))\n",
    "distribution_3 = (np.exp(-(x - mean3)**2 / (2 * sigma3**2)) / (sigma3 * np.sqrt(2 * np.pi)))\n",
    "\n",
    "#------------------------------\n",
    "\n",
    "plt.plot(x, distribution_1 , linewidth=2, color='r')\n",
    "plt.plot(x, distribution_2 , linewidth=2, color='b')\n",
    "plt.plot(x, distribution_3 , linewidth=2, color='k')\n",
    "plt.show()"
   ]
  },
  {
   "cell_type": "markdown",
   "metadata": {},
   "source": [
    "<div class=\"alert alert-block alert-success\">\n",
    "<b> Exercise 2. Create 3 lognormal distributions and plot the results <a name=\"Exercise2\"> </b> \n",
    "    \n",
    "Using the defition of a log-normal distribution, you are tasked with now creating three and plotting the results. We are going to assume that each distribution has the same mean [in log space] but 3 different geometric standard deviations of 0.3, 1.0 and 1.3. As before, we are going to use the Numpy and Matplotlib libraries to create our arrays and plot results accordingly. I have imported the relevant libraries for you and also provided a plotting function. Notice I have assumed our x variable is now named 'x_log' to go into our definition of the lognormal. Also note that this time we are assuming we are using microns as our x axis. Again I assume our 3 different distributions are called 'distribution_1','distribution_2' and 'distribution_3'.  \n",
    "\n",
    "You should define an x array that has a lower limit of 0.01 microns [10nm] and 20 microns and has 400 values. Your geomtric standard deviations are 0.3, 0.6 and 1.1. Your mean diameter in this problem is 800nm.\n",
    "</div>"
   ]
  },
  {
   "cell_type": "code",
   "execution_count": 2,
   "metadata": {
    "scrolled": true
   },
   "outputs": [
    {
     "data": {
      "image/png": "[encoded data removed]",
      "text/plain": [
       "<Figure size 432x288 with 1 Axes>"
      ]
     },
     "metadata": {
      "needs_background": "light"
     },
     "output_type": "display_data"
    }
   ],
   "source": [
    "# plot 3 different log-normal distributions with a mean diameter of 800nm and geometric standard deviation of 1.1, 1.3 and 2.0\n",
    "# This time assume our smallest starying point is 10nm and largest is 20 microns\n",
    "\n",
    "import numpy as np\n",
    "import matplotlib.pyplot as plt\n",
    "\n",
    "# Define lower and upper limit of the size distribution [microns]\n",
    "lower_size = 0.01\n",
    "upper_size = 20\n",
    "\n",
    "#------'INSERT CODE HERE'------\n",
    "x_log = np.linspace(np.log(lower_size), np.log(upper_size), num=400) # values for x-axis\n",
    "sigmag1 = 0.3\n",
    "mean1 = np.log(0.8)\n",
    "\n",
    "sigmag2 = 0.6\n",
    "mean2 = np.log(0.8)\n",
    "\n",
    "sigmag3 = 1.1\n",
    "mean3 = np.log(0.8)\n",
    "\n",
    "distribution_1 = (np.exp(-(x_log - mean1)**2 / (2 * sigmag1**2)) / (sigmag1 * np.sqrt(2 * np.pi)))\n",
    "distribution_2 = (np.exp(-(x_log - mean2)**2 / (2 * sigmag2**2)) / (sigmag2 * np.sqrt(2 * np.pi)))\n",
    "distribution_3 = (np.exp(-(x_log - mean3)**2 / (2 * sigmag3**2)) / (sigmag3 * np.sqrt(2 * np.pi)))\n",
    "#------------------------------\n",
    "\n",
    "plt.plot(x_log, distribution_1 , linewidth=2, color='r')\n",
    "plt.plot(x_log, distribution_2 , linewidth=2, color='b')\n",
    "plt.plot(x_log, distribution_3 , linewidth=2, color='k')\n",
    "#plt.savefig('sample_curve.png', dpi=800)\n",
    "plt.show()"
   ]
  },
  {
   "cell_type": "markdown",
   "metadata": {},
   "source": [
    "<div class=\"alert alert-block alert-success\">\n",
    "<b> Exercise 3. Create a discrete \"volume ratio\" log-normal distribution and populate number concentrations to each bin <a name=\"Exercise3\"> </b> \n",
    "    \n",
    "This is quite an involved exercise. We need to go through a series of steps to create our discrete lognormal distribution that has a mean of 150nm, standard deviation of 1.7 and total number of particles of 600 per cubic centimetre:\n",
    "\n",
    " - Define a lower and upper limit to our size distribution\n",
    " - Calculate a volume ratio for a specific number of bins\n",
    " - Calculate a diameter ratio\n",
    " - Create an array of diameters\n",
    " - Calculate the diameter width of each size bin\n",
    " - Calculate the log-normal probability density for our diameter array\n",
    " - Combine the last two elements with the total number to populate a discrete number distribution\n",
    " - Plot the results\n",
    " \n",
    "In the code snippet below I have started the exercise with the lower and upper bin boundary and desired number of size bins [30]. I have also defined the name of each required variable and array before leaving the plotting routine. Please note we are still working in microns and the number concentration is given in number per cubic centimetre.\n",
    "\n",
    "</div>"
   ]
  },
  {
   "cell_type": "code",
   "execution_count": 3,
   "metadata": {
    "scrolled": true
   },
   "outputs": [
    {
     "name": "stdout",
     "output_type": "stream",
     "text": [
      "1.6102620275609394\n",
      "1.1721022975334803\n",
      "[0.01       0.01172102 0.01373824 0.01610262 0.01887392 0.02212216\n",
      " 0.02592944 0.03039195 0.03562248 0.04175319 0.04893901 0.05736153\n",
      " 0.06723358 0.07880463 0.09236709 0.10826367 0.1268961  0.14873521\n",
      " 0.17433288 0.20433597 0.23950266 0.28072162 0.32903446 0.38566204\n",
      " 0.45203537 0.52983169 0.62101694 0.72789538 0.85316785 1.        ]\n",
      "[0.01       0.01172102 0.01373824 0.01610262 0.01887392 0.02212216\n",
      " 0.02592944 0.03039195 0.03562248 0.04175319 0.04893901 0.05736153\n",
      " 0.06723358 0.07880463 0.09236709 0.10826367 0.1268961  0.14873521\n",
      " 0.17433288 0.20433597 0.23950266 0.28072162 0.32903446 0.38566204\n",
      " 0.45203537 0.52983169 0.62101694 0.72789538 0.85316785 1.        ]\n",
      "[0.00915058 0.01072542 0.01257128 0.01473483 0.01727073 0.02024306\n",
      " 0.02372694 0.0278104  0.03259663 0.03820659 0.04478203 0.05248912\n",
      " 0.06152262 0.07211081 0.08452124 0.09906754 0.11611729 0.13610135\n",
      " 0.1595247  0.18697927 0.21915883 0.25687657 0.30108562 0.35290314\n",
      " 0.41363859 0.48482674 0.56826653 0.66606651 0.78069808 0.91505802]\n",
      "[0.00157484 0.00184587 0.00216355 0.0025359  0.00297233 0.00348388\n",
      " 0.00408346 0.00478623 0.00560996 0.00657544 0.00770709 0.0090335\n",
      " 0.01058818 0.01241044 0.0145463  0.01704975 0.01998405 0.02342335\n",
      " 0.02745457 0.03217956 0.03771774 0.04420905 0.05181753 0.06073544\n",
      " 0.07118815 0.0834398  0.09779998 0.11463158 0.13435993 0.15748359]\n",
      "0.9916248890828715\n",
      "594.974933449723\n"
     ]
    },
    {
     "data": {
      "image/png": "[encoded data removed]",
      "text/plain": [
       "<Figure size 432x288 with 1 Axes>"
      ]
     },
     "metadata": {
      "needs_background": "light"
     },
     "output_type": "display_data"
    }
   ],
   "source": [
    "import numpy as np\n",
    "import matplotlib.pyplot as plt\n",
    "\n",
    "# Volume ratio discrete distribution\n",
    "\n",
    "d1 = 0.01 # Lowest size diameter\n",
    "d_Nb = 1.0 # Diameter of largest bin [microns]\n",
    "Nb = 30 # Number of size bins\n",
    "\n",
    "#------'INSERT CODE HERE'------\n",
    "\n",
    "di = np.exp(np.linspace(np.log(d1), np.log(d_Nb), num=30)) # values for x-axis\n",
    "#log_di = np.linspace(np.log(d1), np.log(d_Nb), num=30)\n",
    "#print(di)\n",
    "\n",
    "V_rat = np.power((d_Nb/d1),3.0/(Nb-1.0)) # Volume ratio between bins\n",
    "d_rat = V_rat**(1.0/3.0) # Diameter ratio between bins\n",
    "print(V_rat)\n",
    "print(d_rat)\n",
    "\n",
    "# Use the volume ratio to create an array of diameters as follows\n",
    "d_i=np.zeros((Nb), dtype=float) # Diameter array \n",
    "d_i[0]=d1\n",
    "for step in range(Nb):\n",
    "    if step > 0:\n",
    "       d_i[step]=d_i[step-1]*d_rat\n",
    "\n",
    "log_di = np.log(d_i) # Log of Diameter array \n",
    "\n",
    "# Create an array of lower bin boundaries\n",
    "vi = (4.0/3.0)*np.pi*np.power(d_i/2.0,3.0)\n",
    "vi_low = 2.0*vi/(1.0+V_rat)\n",
    "di_low = 2.0*(np.power(vi_low/((4.0/3.0)*np.pi),(1.0/3.0)))\n",
    "\n",
    "print(d_i)\n",
    "print(di)\n",
    "print(di_low)\n",
    "\n",
    "d_width = d_i*np.power(2,1.0/3.0)*((np.power(V_rat,1.0/3.0)-1.0)/(np.power(1+V_rat,1.0/3.0))) # Diameter width array of size bins\n",
    "print(d_width)\n",
    "\n",
    "# Parameters of log-normal distribution\n",
    "sigmag1 = np.log(1.7) # Geometric standard deviation\n",
    "mean1 = np.log(0.15) # Mean particle size [150nm]\n",
    "distribution_1 = (np.exp(-(log_di - mean1)**2 / (2 * sigmag1**2)) / (sigmag1 * np.sqrt(2 * np.pi))) # Probability density distribution\n",
    "\n",
    "#print(d_width/d_i)\n",
    "print(np.sum(distribution_1*(d_width/d_i)))\n",
    "\n",
    "Ntot = 600.0 # Total number of particles [per cm-3]\n",
    "N_dist = Ntot*(distribution_1*(d_width/d_i)) # Discrete number distribution\n",
    "print(np.sum(N_dist))\n",
    "\n",
    "#------------------------------\n",
    "\n",
    "plt.bar(log_di, N_dist)\n",
    "plt.ylabel(r'dNdLogDp')\n",
    "plt.xlabel(r'LogDp')\n",
    "plt.title(r'Discrete size distribution')\n",
    "plt.show()\n",
    "plt.show()"
   ]
  },
  {
   "cell_type": "markdown",
   "metadata": {},
   "source": [
    "<div class=\"alert alert-block alert-success\">\n",
    "<b> Exercise 4. Calculate the PM2.5 mass associated with the size distribution  <a name=\"Exercise3\"> </b> \n",
    "    \n",
    "Using the same distribution as above, calculate PM2.5 mass assuming the particles have a density of 1400kg.m-3 which is a good approximation for secondary organics. Please note your final answer should be given in $\\mu g.m^{-3}$, so you should perhaps check unit coversions on paper. Do you arrive at a mass of ~5.14 $\\mu g.m^{-3}$?\n",
    "\n",
    "Following this, try to find some different size distributions and calculate the total PM2.5 mass. As an added challenge, rather than doing this within the jupyter notebook environment, create a seperate Python script and run this from the command line.\n",
    "\n",
    "\n",
    "</div>"
   ]
  },
  {
   "cell_type": "code",
   "execution_count": 4,
   "metadata": {},
   "outputs": [
    {
     "name": "stdout",
     "output_type": "stream",
     "text": [
      "5.142161209310858\n"
     ]
    }
   ],
   "source": [
    "# Total mass in micrograms per cubic metre\n",
    "#------'INSERT CODE HERE'------\n",
    "density = 1400.0 #kg.m-3\n",
    "total_mass = np.sum((4.0/3.0)*np.pi*np.power((d_i*1.0e-6)/2.0,3.0)*(N_dist*1.0e6)*density*1.0e9)\n",
    "#------------------------------\n",
    "print(total_mass)"
   ]
  },
  {
   "cell_type": "code",
   "execution_count": null,
   "metadata": {},
   "outputs": [],
   "source": []
  }
 ],
 "metadata": {
  "kernelspec": {
   "display_name": "Python 3 (ipykernel)",
   "language": "python",
   "name": "python3"
  },
  "language_info": {
   "codemirror_mode": {
    "name": "ipython",
    "version": 3
   },
   "file_extension": ".py",
   "mimetype": "text/x-python",
   "name": "python",
   "nbconvert_exporter": "python",
   "pygments_lexer": "ipython3",
   "version": "3.10.1"
  }
 },
 "nbformat": 4,
 "nbformat_minor": 2
}
