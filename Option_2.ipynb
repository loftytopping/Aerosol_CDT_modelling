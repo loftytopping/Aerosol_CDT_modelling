{
 "cells": [
  {
   "cell_type": "markdown",
   "metadata": {},
   "source": [
    "## Assignment template 2) Reporting changes in annual concentrations of PM2.5 over multiple provenices in China\n",
    "\n",
    "In practical 5, we started using Pandas dataframes to record informatiom on PM2.5 concentrations over China. Without using Geopandas, we were able to plot changes on a map and extract time series changes for a given region. In this exercise, we request that you:\n",
    "\n",
    " - Build a catalogue (visualisation) of PM2.5 concentrations over China as a function of time\n",
    " - Extract and compare time series statistics of PM2.5 concentrations in 3 provinces over the same time period.\n",
    " - Use additional data from a single site in Beijing to determine if the annual averages reflect the same trends as our Geospatial data. For this activity you can use data held at the following address: https://archive.ics.uci.edu/dataset/501/beijing+multi+site+air+quality+data\n",
    " \n",
    " \n",
    " \n",
    "<div class=\"alert alert-block alert-warning\">\n",
    "<b>Please note:</b> \n",
    "\n",
    "We also want to see adequate referencing around:\n",
    "  - What is the original source of the theory and/or data?\n",
    "  - Comments in the code boxes using the # symbol. Remember that someone might not know what each line of code does.\n",
    "\n",
    "You may also want to consider a broader discussion around this challenge. For example: \n",
    " - What could be improved? \n",
    " - How do you know your results are correct? [i.e. what might improve trust in your simulations?]\n",
    " - What if someone wanted to get in touch with you and re-use this code? Any restrictions on data?\n",
    "\n",
    "To start, we reccomend you first get the code implementation working and then construct the narrative around it. Also please note that to add another code or markdown box, you can simple use the 'Insert' option on the main menu.\n",
    "\n",
    "</div>\n",
    "\n",
    "</div>"
   ]
  },
  {
   "cell_type": "markdown",
   "metadata": {},
   "source": [
    "## Abstract\n",
    "\n",
    "- Summarise the project and main results\n",
    "\n",
    "_Your Answer Here_"
   ]
  },
  {
   "cell_type": "markdown",
   "metadata": {},
   "source": [
    "## Introduction\n",
    "\n",
    "- Introduce the wider scientific background\n",
    "  \n",
    "_Your Answer Here_\n"
   ]
  },
  {
   "cell_type": "markdown",
   "metadata": {},
   "source": [
    "## Methodology using class templates\n",
    "\n",
    "- What is the challenge and how are you solving it?\n",
    "- What modules/functions are you using?\n",
    "\n",
    "_Your Answer Here_"
   ]
  },
  {
   "cell_type": "markdown",
   "metadata": {},
   "source": [
    "## Methodology using GenAI (optional)\n",
    "\n",
    "_Your Answer Here_"
   ]
  },
  {
   "cell_type": "markdown",
   "metadata": {},
   "source": [
    "## Code [inset code below]"
   ]
  },
  {
   "cell_type": "code",
   "execution_count": null,
   "metadata": {},
   "outputs": [],
   "source": [
    "#### -------- INSERT CODE HERE ----------\n",
    "\n",
    "\n",
    "#### ------------------------------------"
   ]
  },
  {
   "cell_type": "markdown",
   "metadata": {},
   "source": [
    "## Results\n",
    "\n",
    "- What is happening in each figure?\n",
    "\n",
    "\n",
    "_Your Answer Here_\n",
    "\n",
    "\n",
    "#### references"
   ]
  },
  {
   "cell_type": "code",
   "execution_count": null,
   "metadata": {},
   "outputs": [],
   "source": []
  }
 ],
 "metadata": {
  "kernelspec": {
   "display_name": "Python 3 (ipykernel)",
   "language": "python",
   "name": "python3"
  },
  "language_info": {
   "codemirror_mode": {
    "name": "ipython",
    "version": 3
   },
   "file_extension": ".py",
   "mimetype": "text/x-python",
   "name": "python",
   "nbconvert_exporter": "python",
   "pygments_lexer": "ipython3",
   "version": "3.13.1"
  }
 },
 "nbformat": 4,
 "nbformat_minor": 2
}
