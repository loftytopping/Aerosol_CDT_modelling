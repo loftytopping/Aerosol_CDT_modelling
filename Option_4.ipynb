{
 "cells": [
  {
   "cell_type": "markdown",
   "metadata": {},
   "source": [
    "## Assignment template 4) Evaluate the accuracy of two supervised machine learning models in predicting the type of bio-aerosol.\n",
    "\n",
    "In practical 8, we used the Scikit-learn package to apply both unsupervised and supervised machine learning algorithms to lab data on various bio-aerosl types. In this exercise, you are asked to build on that work and conduct the following:\n",
    "\n",
    " - Evaluate the change in performance of the Random Forest Classifier, used in the class exercise, when using a selection of single channels from the mass spectra, combined with size and shape, versus all available channels.\n",
    " - Repeat this exercise but using the ExtraTreesClassifier in Scikit-learn. For this we would recommend looking at the Scikit-learn documentation. \n",
    " \n",
    " \n",
    "<div class=\"alert alert-block alert-warning\">\n",
    "<b>Please note:</b> \n",
    "\n",
    "We also want to see adequate referencing around:\n",
    "  - What is the original source of the theory and/or data?\n",
    "  - Comments in the code boxes using the # symbol. Remember that someone might not know what each line of code does.\n",
    "\n",
    "You may also want to consider a broader discussion around this challenge. For example: \n",
    " - What could be improved? \n",
    " - How do you know your results are correct? [i.e. what might improve trust in your simulations?]\n",
    " - What if someone wanted to get in touch with you and re-use this code? Any restrictions on data?\n",
    "\n",
    "To start, we reccomend you first get the code implementation working and then construct the narrative around it. Also please note that to add another code or markdown box, you can simple use the 'Insert' option on the main menu.\n",
    "\n",
    "</div>\n",
    "\n",
    "</div>"
   ]
  },
  {
   "cell_type": "markdown",
   "metadata": {},
   "source": [
    "## Abstract\n",
    "\n",
    "- Summarise the project and main results\n",
    "\n",
    "_Your Answer Here_"
   ]
  },
  {
   "cell_type": "markdown",
   "metadata": {},
   "source": [
    "## Introduction\n",
    "\n",
    "- Introduce the wider scientific background\n",
    "  \n",
    "_Your Answer Here_\n"
   ]
  },
  {
   "cell_type": "markdown",
   "metadata": {},
   "source": [
    "## Methodology using class templates\n",
    "\n",
    "- What is the challenge and how are you solving it?\n",
    "- What modules/functions are you using?\n",
    "\n",
    "_Your Answer Here_"
   ]
  },
  {
   "cell_type": "markdown",
   "metadata": {},
   "source": [
    "## Methodology using GenAI (optional)\n",
    "\n",
    "_Your Answer Here_"
   ]
  },
  {
   "cell_type": "markdown",
   "metadata": {},
   "source": [
    "## Code [inset code below]"
   ]
  },
  {
   "cell_type": "code",
   "execution_count": null,
   "metadata": {},
   "outputs": [],
   "source": [
    "#### -------- INSERT CODE HERE ----------\n",
    "\n",
    "\n",
    "#### ------------------------------------"
   ]
  },
  {
   "cell_type": "markdown",
   "metadata": {},
   "source": [
    "## Results\n",
    "\n",
    "- What is happening in each figure?\n",
    "\n",
    "\n",
    "_Your Answer Here_\n",
    "\n",
    "\n",
    "#### references"
   ]
  },
  {
   "cell_type": "code",
   "execution_count": null,
   "metadata": {},
   "outputs": [],
   "source": []
  }
 ],
 "metadata": {
  "kernelspec": {
   "display_name": "Python 3 (ipykernel)",
   "language": "python",
   "name": "python3"
  },
  "language_info": {
   "codemirror_mode": {
    "name": "ipython",
    "version": 3
   },
   "file_extension": ".py",
   "mimetype": "text/x-python",
   "name": "python",
   "nbconvert_exporter": "python",
   "pygments_lexer": "ipython3",
   "version": "3.13.1"
  }
 },
 "nbformat": 4,
 "nbformat_minor": 2
}
