{
 "cells": [
  {
   "cell_type": "markdown",
   "metadata": {},
   "source": [
    "# Practical 1) Creating binned size distributions and calculating PM2.5\n",
    "\n",
    "In our first practical, we are going to practice creating discrete size distributions before then calculaing the total mass loading for a range of ambient environments. Creating a size distribution can often feel like an ardous task and is a useful exercise in translating equations to code. This will also serve as a useful warm-up exercise for deploying a range of Python functions. You will have looked at Python as part of your training already; However learning to code wholst focusing on a domain relevant problem is often the best way to learn. With that in mind, today's first practical is comprised of 4 exercises across 3 main objectives.\n",
    "\n",
    "<div class=\"alert alert-block alert-success\">\n",
    "<b>Objectives:</b> The objectives of todays practical are:\n",
    "\n",
    " - 1) [Objective 1 - Practice changing the shape of a normal and log-normal distribution ](#Part1)\n",
    "      * [Exercise 1: Create 3 normal distributions and plot the results](#Exercise1)\n",
    "      * [Exercise 2: Create 3 log-normal distributions and plot the results](#Exercise2)\n",
    " - 2) [Objective 2 - Populate a discrete 'binned' size distribution from a continuous function](#Part2)\n",
    "      * [Exercise 3: Create a discrete size distribution with 30 bins](#Exercise3)\n",
    " - 3) [Objective 3 - Calculate PM2.5 mass](#Part3)\n",
    "      * [Exercise 4: Sum to the total particulate mass for a range of environments](#Exercise4)\n",
    "\n",
    "Please note that you should not feel pressured to complete every exercise in class. These practicals are designed for you to take outside of class and continue working on them if useful. Proposed solutions to all exercises can be found in the 'Solutions' folder. There are often many ways to arrive at the solution of any particular problem, where choice of final method can rest on computational efficiency. We will discuss this later.\n",
    "</div>\n",
    "\n",
    "<div class=\"alert alert-block alert-warning\">\n",
    "<b>Please note:</b> After reading the instructions and aims of any exercise, if some boilerplate is already provided, search the code snippets for a note that reads ------'INSERT CODE HERE'------ to identify where you need to write your code \n",
    "</div>\n",
    "\n",
    "## Objective 1 - Practice changing the shape of a normal and log-normal distribution  <a name=\"Part1\">\n",
    "\n",
    "The probability density of many phenomena in the natural world often follows a normal, or Gaussain, distribution. Algebraically, the probability density for the normal (Gaussian) distribution is given by:\n",
    "\n",
    "\\begin{equation}\n",
    "p(x) = \\frac{1}{\\sqrt{ 2 \\pi \\sigma^2 }} e^{ - \\frac{ (x - \\mu)^2 } {2 \\sigma^2} },   \\tag{1}\n",
    "\\end{equation}\n",
    "\n",
    "where $p(x)$ is the probability density, $\\sigma$ is the standard deviation and $\\mu$ is the mean. In some cases you may hear reference to $\\mu$ as the location parameter and $\\sigma$ as the scale parameter. Indeed, if you were to use the Python package Scipy's ```python scipy.stats.lognorm ``` function you would find such reference in the documentation. We are going to create our own normal and log-normal distributions.\n",
    "\n",
    "A lognormal distribution is a normal distribution on a logarithmic scale. For aerosol particles that can span large ranges in magnitude, this is the most appropriate and perhaps commonly used distribution. Distinct from a normal distribution, a lognormal distribution has \"geometric\" mean diameter and a \"geometric\" standard deviation. As noted by [Jacobson 2005]() fifty percent of the area under a lognormal distribution lies below the geometric-mean diameter.  and 68 percent of the area under the lognormal distribution lies within one geometric standard deviation of the geometric-mean diameter.\n",
    "\n",
    "The probability density for the log-normal distribution is\n",
    "\\begin{equation}\n",
    "p(x) = \\frac{1}{\\sqrt{ 2 \\pi log(\\sigma_{g})^2 }} e^{ - \\frac{ (log(x) - log(\\mu))^2 } {2 log(\\sigma_{g})^2} },\n",
    "\\end{equation}\n",
    "\n",
    "A standard normal distribution can be visualised as per the following figure:\n",
    "\n",
    "<img src=\"images/Normal_Distribution_PDF.png\" alt=\"By Inductiveload - self-made, Mathematica, Inkscape, Public Domain, https://commons.wikimedia.org/w/index.php?curid=3817954\" style=\"width: 500px;\"/>\n",
    "\n",
    "\n",
    "\n",
    "This brings us to exercise 1. "
   ]
  },
  {
   "cell_type": "markdown",
   "metadata": {},
   "source": [
    "<div class=\"alert alert-block alert-success\">\n",
    "<b> Exercise 1. Create 3 normal distributions and plot the results <a name=\"Exercise1\"> </b> \n",
    "    \n",
    "Using the defition of a normal distribution, you are tasked with now creating three different distributions and plotting the results. We are going to assume that each distribution has the same mean of 0 but 3 different standard deviations of 0.3, 1.0 and 1.3.\n",
    "\n",
    "We are going to use the Numpy and Matplotlib libraries to create our arrays and plot results accordingly. As already noted above, this warm-up exercise will help you get a renewed feel for Python programming. You may find the following functions useful, assuming we have imported ```python numpy as np```:\n",
    "\n",
    "```python\n",
    "   np.linspace(lower, upper, num=xxx) # Creates an array with a lower and upper limit with xxx entries\n",
    "   np.exp(xxx) # Calculates the exponential of a constant, variable or Numpy array\n",
    "   np.sqrt(xxx) # Calculates the square root of a constant, variable or Numpy array\n",
    "   np.pi # Gives us the constant 'pi'\n",
    "\n",
    "```\n",
    "\n",
    "In the code snippet below, as part of this exercise, I have imported the relevant libraries for you and also provided a plotting function. Notice I have assumed our x variable is called 'x' and our 3 different distributions are called 'distribution_1','distribution_2' and 'distribution_3'.  Once complete you should arrive at a plot that looks like the following:\n",
    "\n",
    "![title <](images/Prac1_ex1.png)\n",
    "\n",
    "</div>"
   ]
  },
  {
   "cell_type": "code",
   "execution_count": 5,
   "metadata": {},
   "outputs": [
    {
     "data": {
      "image/png": "[encoded data removed]",
      "text/plain": [
       "<Figure size 432x288 with 1 Axes>"
      ]
     },
     "metadata": {
      "needs_background": "light"
     },
     "output_type": "display_data"
    }
   ],
   "source": [
    "# plot 3 different normal distributions with the same mean [0] but 3 different standard deviations of 0.3,1.0 and 1.3\n",
    "\n",
    "import numpy as np\n",
    "import matplotlib.pyplot as plt\n",
    "\n",
    "#------'INSERT CODE HERE'------\n",
    "\n",
    "# Define lower and upper limit of the size distribution [microns]\n",
    "lower_size =  \n",
    "upper_size =  \n",
    "\n",
    "# Use the above information and the fact we want to create 400 values to create a numpy array\n",
    "x = np.linspace(lower_size, upper_size, num=400) # values for x-axis\n",
    "\n",
    "# Define the mean and standard deviation for each normal distribution\n",
    "sigma1 =  \n",
    "mean1 =  \n",
    "\n",
    "sigma2 =  \n",
    "mean2 =  \n",
    "\n",
    "sigma3 =  \n",
    "mean3 =  \n",
    "\n",
    "# Now create each distribution using the mean, standard deviation and x array\n",
    "distribution_1 =  \n",
    "distribution_2 =  \n",
    "distribution_3 =  \n",
    "\n",
    "#------------------------------\n",
    "\n",
    "plt.plot(x, distribution_1 , linewidth=2, color='r')\n",
    "plt.plot(x, distribution_2 , linewidth=2, color='b')\n",
    "plt.plot(x, distribution_3 , linewidth=2, color='k')\n",
    "plt.show()"
   ]
  },
  {
   "cell_type": "markdown",
   "metadata": {},
   "source": [
    "In exercise 2 below, we now create 3 lognormal distributions with the same mean but different geometric standard deviations. This is very similar to exercise 1. However, this time you will need to create a linearly spaced array in log(x) which is then used in your expression for defining the lognormal. Please read the instructions carefully.\n"
   ]
  },
  {
   "cell_type": "markdown",
   "metadata": {},
   "source": [
    "<div class=\"alert alert-block alert-success\">\n",
    "<b> Exercise 2. Create 3 lognormal distributions and plot the results <a name=\"Exercise2\"> </b> \n",
    "    \n",
    "Using the defition of a log-normal distribution, you are tasked with now creating three and plotting the results. We are going to assume that each distribution has the same mean [in log space] but 3 different geometric standard deviations of 0.3, 1.0 and 1.3. As before, we are going to use the Numpy and Matplotlib libraries to create our arrays and plot results accordingly. I have imported the relevant libraries for you and also provided a plotting function. Notice I have assumed our x variable is now named 'x_log' to go into our definition of the lognormal. Also note that this time we are assuming we are using microns as our x axis. Again I assume our 3 different distributions are called 'distribution_1','distribution_2' and 'distribution_3'.  \n",
    "\n",
    "You should define an x array that has a lower limit of 0.01 microns [10nm] and 20 microns and has 400 values. Your geomtric standard deviations are 0.3, 1.0 and 1.3. Your mean diameter in this problem is 800nm.\n",
    "\n",
    "Once complete you should arrive at a plot that looks like the following:\n",
    "\n",
    "![title <](images/Prac1_ex2.png)\n",
    "\n",
    "</div>"
   ]
  },
  {
   "cell_type": "code",
   "execution_count": 4,
   "metadata": {
    "scrolled": true
   },
   "outputs": [
    {
     "data": {
      "image/png": "[encoded data removed]",
      "text/plain": [
       "<Figure size 432x288 with 1 Axes>"
      ]
     },
     "metadata": {
      "needs_background": "light"
     },
     "output_type": "display_data"
    }
   ],
   "source": [
    "# plot 3 different log-normal distributions with a mean diameter of 800nm and geometric standard deviation of 1.1, 1.3 and 2.0\n",
    "# This time assume our smallest starying point is 10nm and largest is 20 microns\n",
    "\n",
    "import numpy as np\n",
    "import matplotlib.pyplot as plt\n",
    "\n",
    "# Define lower and upper limit of the size distribution [microns]\n",
    "lower_size =  \n",
    "upper_size =  \n",
    "\n",
    "#------'INSERT CODE HERE'------\n",
    "x_log = np.linspace(np.log(lower_size), np.log(upper_size), num=400) # values for x-axis\n",
    "sigmag1 =  \n",
    "mean1 =  \n",
    "\n",
    "sigmag2 =  \n",
    "mean2 =  \n",
    "\n",
    "sigmag3 =  \n",
    "mean3 =  \n",
    "\n",
    "distribution_1 =  \n",
    "distribution_2 =  \n",
    "distribution_3 =  \n",
    "#------------------------------\n",
    "\n",
    "plt.plot(x_log, distribution_1 , linewidth=2, color='r')\n",
    "plt.plot(x_log, distribution_2 , linewidth=2, color='b')\n",
    "plt.plot(x_log, distribution_3 , linewidth=2, color='k')\n",
    "#plt.savefig('sample_curve.png', dpi=800)\n",
    "plt.show()"
   ]
  },
  {
   "cell_type": "markdown",
   "metadata": {},
   "source": [
    "## Objective 2 -  Populate a discrete 'binned' size distribution from a continuous function <a name=\"Part2\">\n",
    "\n",
    "When modelling aerosol particles we represent the variation in particle size from the following:\n",
    "\n",
    " - Track each particle\n",
    " - Place particles into distinct size ranges\n",
    " - Assume a continuous distribution\n",
    " \n",
    "The first, whilst [possible](https://www.atmos-chem-phys.net/14/5327/2014/), would require too much computational resource for complex systems. The third, whilst still used in large scale schemes and often called the modal approach, has limitations when we come to tracking invidual components. The second is the most popular and is known as the setional approach. This approach requires us to split the continuous size distribution into discrete size bins. We have used the log-normal approach above and will continue to do so. Limiting the number of bins in a model is often the easiest method of reducing computer-time and memory limits. We will discuss this in class. For now we need to cover all particle sizes with a fixed number of bins; The bins should be spread geometrically and we can thus look at a geomteric distribution known as the volume-ratio distribution. In this distribution, a fixed volume ratio between bins defines the centre of the bin and bin width. We will see in this exercise that we can also simply choose linearly seperated values in log diameter space. The figure below, taken from the [Fundamentals of Atmospheric Modelling]() illustrates the concept:\n",
    "\n",
    "\n",
    "<img src=\"images/jacobson_fig131.png\" alt=\"Drawing\" style=\"width: 300px;\"/>\n",
    "\n",
    "\n",
    "There are a number of formaulas we need to use to create this discrete distribution.\n",
    "\n",
    "$$\n",
    "\\begin{align}\n",
    "V_{rat}=\\left ( \\frac{d_{Nb}}{d_{1}} \\right )^{3/(N_{b}-1)}  \\tag{1}\n",
    "\\\\\n",
    "D_{rat} = V_{rat}^{1/3}\n",
    "\\\\\n",
    "v_{i}=V_{rat}v_{i-1} \\text{ for i=1 to} N_{b}   \\tag{1}\n",
    "\\\\\n",
    "v_{i}= \\frac{1}{2}\\left ( v_{i,hi} + v_{i,lo} \\right )   \\tag{1}\n",
    "\\\\\n",
    "v_{i,hi}= V_{rat}v_{i,lo}   \\tag{1}\n",
    "\\\\\n",
    "v_{i,lo}= \\frac{2v_{i}}{1+V_{rat}}   \\tag{1}\n",
    "\\\\\n",
    "\\Delta d_{i} = d_{i,hi}-d_{i,lo}=d_{i}2^{1/3}\\frac{V_{rat}^{1/3}-1}{(1+V_{rat})^{1/3}}    \\tag{1}\n",
    "\\\\\n",
    "n_{i} = \\frac{N_{L}\\Delta d_{i}}{d_{i}\\sqrt{2\\pi }ln\\sigma _{g}}exp\\left [ -\\frac{ (log(x) - log(\\mu))^2 } {2 log(\\sigma_{g})^2} \\right ]   \\tag{1}\n",
    "\\end{align}\n",
    "$$\n",
    "\n",
    "where each variable is defined as follows:\n",
    "\n",
    "| Variable | definition |\n",
    "|------|------|\n",
    "| $V_{rat}$ | Volume ratio between bins | \n",
    "| $D_{rat}$ | Diameter ratio between bins | \n",
    "| $d_{Nb}$ |  Diameter of largest bin | \n",
    "| $d_{1}$ | Diameter of smallest bin  | \n",
    "| $d_{i}$ | Diameter of particle in bin i  | \n",
    "| $N_{b}$ | Number of size bins | \n",
    "| $v_{i}$ | Volume of a particle in size bin i | \n",
    "| $v_{i,hi}$ | Upper volumne of a particle in size bin i | \n",
    "| $v_{i,lo}$ | Lower volumne of a particle in size bin i | \n",
    "| $\\Delta d_{i}$ | Diameter width of size bin i | \n",
    "| $\\sigma_{g}$ | Standard deviation of lognormal distribution |\n",
    "| $\\mu$ | Mean diameter of lognormal distribution |\n",
    "| $x$ | Diameter array of lognormal distribution |\n",
    "| $N_{L}$ | Total number of aerosol particles |\n",
    "\n",
    "The following schematic illustrates how each variable maps onto a hypothetical log-normal discrete distribution:\n",
    "\n",
    "<img src=\"images/Binned_size_distribution.png\" alt=\"Drawing\" style=\"width: 600px;\"/>\n"
   ]
  },
  {
   "cell_type": "markdown",
   "metadata": {},
   "source": [
    "<div class=\"alert alert-block alert-success\">\n",
    "<b> Exercise 3. Create a discrete \"volume ratio\" log-normal distribution and populate number concentrations to each bin <a name=\"Exercise3\"> </b> \n",
    "    \n",
    "This is quite an involved exercise. We need to go through a series of steps to create our discrete lognormal distribution that has a mean of 150nm, standard deviation of 1.7 and total number of particles of 600 per cubic centimetre:\n",
    "\n",
    " - Define a lower and upper limit to our size distribution\n",
    " - Calculate a volume ratio for a specific number of bins\n",
    " - Calculate a diameter ratio\n",
    " - Create an array of diameters\n",
    " - Calculate the diameter width of each size bin\n",
    " - Calculate the log-normal probability density for our diameter array\n",
    " - Combine the last two elements with the total number to populate a discrete number distribution\n",
    " - Plot the results\n",
    " \n",
    "In the code snippet below I have started the exercise with the lower and upper bin boundary and desired number of size bins [30]. I have also defined the name of each required variable and array before leaving the plotting routine. Please note we are still working in microns and the number concentration is given in number per cubic centimetre.\n",
    "\n",
    "Once completed, your plot should look like the following:\n",
    "\n",
    "![title <](images/Prac1_ex3.png)\n",
    "\n",
    "</div>"
   ]
  },
  {
   "cell_type": "code",
   "execution_count": 3,
   "metadata": {
    "scrolled": true
   },
   "outputs": [
    {
     "name": "stdout",
     "output_type": "stream",
     "text": [
      "1.6102620275609394\n",
      "1.1721022975334803\n",
      "[0.01       0.01172102 0.01373824 0.01610262 0.01887392 0.02212216\n",
      " 0.02592944 0.03039195 0.03562248 0.04175319 0.04893901 0.05736153\n",
      " 0.06723358 0.07880463 0.09236709 0.10826367 0.1268961  0.14873521\n",
      " 0.17433288 0.20433597 0.23950266 0.28072162 0.32903446 0.38566204\n",
      " 0.45203537 0.52983169 0.62101694 0.72789538 0.85316785 1.        ]\n",
      "[0.01       0.01172102 0.01373824 0.01610262 0.01887392 0.02212216\n",
      " 0.02592944 0.03039195 0.03562248 0.04175319 0.04893901 0.05736153\n",
      " 0.06723358 0.07880463 0.09236709 0.10826367 0.1268961  0.14873521\n",
      " 0.17433288 0.20433597 0.23950266 0.28072162 0.32903446 0.38566204\n",
      " 0.45203537 0.52983169 0.62101694 0.72789538 0.85316785 1.        ]\n",
      "[0.00915058 0.01072542 0.01257128 0.01473483 0.01727073 0.02024306\n",
      " 0.02372694 0.0278104  0.03259663 0.03820659 0.04478203 0.05248912\n",
      " 0.06152262 0.07211081 0.08452124 0.09906754 0.11611729 0.13610135\n",
      " 0.1595247  0.18697927 0.21915883 0.25687657 0.30108562 0.35290314\n",
      " 0.41363859 0.48482674 0.56826653 0.66606651 0.78069808 0.91505802]\n",
      "[0.00157484 0.00184587 0.00216355 0.0025359  0.00297233 0.00348388\n",
      " 0.00408346 0.00478623 0.00560996 0.00657544 0.00770709 0.0090335\n",
      " 0.01058818 0.01241044 0.0145463  0.01704975 0.01998405 0.02342335\n",
      " 0.02745457 0.03217956 0.03771774 0.04420905 0.05181753 0.06073544\n",
      " 0.07118815 0.0834398  0.09779998 0.11463158 0.13435993 0.15748359]\n",
      "0.9916248890828715\n",
      "594.974933449723\n"
     ]
    },
    {
     "data": {
      "image/png": "[encoded data removed]",
      "text/plain": [
       "<Figure size 432x288 with 1 Axes>"
      ]
     },
     "metadata": {
      "needs_background": "light"
     },
     "output_type": "display_data"
    }
   ],
   "source": [
    "import numpy as np\n",
    "import matplotlib.pyplot as plt\n",
    "\n",
    "# Volume ratio discrete distribution\n",
    "\n",
    "d1 = 0.01 # Lowest size diameter\n",
    "d_Nb = 1.0 # Diameter of largest bin [microns]\n",
    "Nb = 30 # Number of size bins\n",
    "\n",
    "#------'INSERT CODE HERE'------\n",
    "di = np.exp(np.linspace(np.log(d1), np.log(d_Nb), num=30)) # values for x-axis\n",
    "#log_di = np.linspace(np.log(d1), np.log(d_Nb), num=30)\n",
    "#print(di)\n",
    "\n",
    "V_rat =  # Volume ratio between bins\n",
    "d_rat =  # Diameter ratio between bins\n",
    "\n",
    "# Use the volume ratio to create an array of diameters as follows\n",
    "d_i=np.zeros((Nb), dtype=float) # Diameter array \n",
    "d_i[0]=d1\n",
    "for step in range(Nb):\n",
    "    if step > 0:\n",
    "       d_i[step]= \n",
    "\n",
    "log_di = np.log(d_i) # Log of Diameter array \n",
    "\n",
    "# Create an array of lower bin boundaries\n",
    "vi = (4.0/3.0)*np.pi*np.power(d_i/2.0,3.0)\n",
    "vi_low = 2.0*vi/(1.0+V_rat)\n",
    "di_low = 2.0*(np.power(vi_low/((4.0/3.0)*np.pi),(1.0/3.0)))\n",
    "\n",
    "d_width = \n",
    "\n",
    "# Parameters of log-normal distribution\n",
    "sigmag1 =  # Geometric standard deviation\n",
    "mean1 =  # Mean particle size [150nm]\n",
    "distribution_1 =  # Probability density distribution\n",
    "\n",
    "Ntot = 600.0 # Total number of particles [per cm-3]\n",
    "N_dist =  # Discrete number distribution\n",
    "#------------------------------\n",
    "\n",
    "plt.bar(log_di, N_dist)\n",
    "plt.ylabel(r'N')\n",
    "plt.xlabel(r'LogDp')\n",
    "plt.title(r'Discrete size distribution')\n",
    "plt.show()\n",
    "plt.show()"
   ]
  },
  {
   "cell_type": "markdown",
   "metadata": {},
   "source": [
    "## Objective 3 - Calculate PM2.5 mass  <a name=\"Part3\">\n",
    "    \n",
    "You will have come across the metric PM2.5 when discussing air quality. As the total mass of sampled particulates below 2.5 microns, it has been used historically as a measure of ambient concentrations. Whilst a relatively crude metric, certainly as we learn more about [differential toxicity and size effects on human health](http://www.euro.who.int/__data/assets/pdf_file/0006/189051/Health-effects-of-particulate-matter-final-Eng.pdf), we can play with multiple size distributions and relate these to expected levels of PM2.5. For example, in an urban environment dominated by a large number of fine more aerosol, how does the PM2.5 mass compare with an environmnt where a lower number of accumulation mode aerosol dominate?"
   ]
  },
  {
   "cell_type": "markdown",
   "metadata": {},
   "source": [
    "<div class=\"alert alert-block alert-success\">\n",
    "<b> Exercise 4. Calculate the PM2.5 mass associated with the size distribution  <a name=\"Exercise3\"> </b> \n",
    "    \n",
    "Using the same distribution as above, calculate PM2.5 mass assuming the particles have a density of 1400kg.m-3 which is a good approximation for secondary organics. Please note your final answer should be given in $\\mu g.m^{-3}$, so you should perhaps check unit coversions on paper. Do you arrive at a mass of ~5.14 $\\mu g.m^{-3}$?\n",
    "\n",
    "Following this, try to find some different size distributions and calculate the total PM2.5 mass. As an added challenge, rather than doing this within the jupyter notebook environment, create a seperate Python script and run this from the command line.\n",
    "\n",
    "\n",
    "</div>"
   ]
  },
  {
   "cell_type": "code",
   "execution_count": 4,
   "metadata": {},
   "outputs": [
    {
     "name": "stdout",
     "output_type": "stream",
     "text": [
      "5.142161209310858\n"
     ]
    }
   ],
   "source": [
    "# Total mass in micrograms per cubic metre\n",
    "#------'INSERT CODE HERE'------\n",
    "density = 1400.0 #kg.m-3\n",
    "total_mass = \n",
    "#------------------------------\n",
    "print(total_mass)"
   ]
  },
  {
   "cell_type": "code",
   "execution_count": null,
   "metadata": {},
   "outputs": [],
   "source": []
  }
 ],
 "metadata": {
  "kernelspec": {
   "display_name": "Python 3 (ipykernel)",
   "language": "python",
   "name": "python3"
  },
  "language_info": {
   "codemirror_mode": {
    "name": "ipython",
    "version": 3
   },
   "file_extension": ".py",
   "mimetype": "text/x-python",
   "name": "python",
   "nbconvert_exporter": "python",
   "pygments_lexer": "ipython3",
   "version": "3.12.2"
  }
 },
 "nbformat": 4,
 "nbformat_minor": 4
}
